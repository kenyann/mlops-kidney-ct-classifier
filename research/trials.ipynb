{
 "cells": [
  {
   "cell_type": "code",
   "execution_count": 1,
   "metadata": {},
   "outputs": [],
   "source": [
    "import gdown"
   ]
  },
  {
   "cell_type": "code",
   "execution_count": 2,
   "metadata": {},
   "outputs": [],
   "source": [
    "url=\"https://drive.google.com/file/d/1vlhZ5c7abUKF8xXERIw6m9Te8fW7ohw3/view?usp=sharing\""
   ]
  },
  {
   "cell_type": "code",
   "execution_count": 11,
   "metadata": {},
   "outputs": [],
   "source": [
    "file_id = url.split(\"/\")[-2]\n",
    "prefix = 'https://drive.google.com/uc?/export=download&id='"
   ]
  },
  {
   "cell_type": "code",
   "execution_count": 12,
   "metadata": {},
   "outputs": [
    {
     "name": "stderr",
     "output_type": "stream",
     "text": [
      "Downloading...\n",
      "From (original): https://drive.google.com/uc?/export=download&id=1vlhZ5c7abUKF8xXERIw6m9Te8fW7ohw3\n",
      "From (redirected): https://drive.google.com/uc?%2Fexport=download&id=1vlhZ5c7abUKF8xXERIw6m9Te8fW7ohw3&confirm=t&uuid=7a2ebe1b-e717-4907-8036-8dfd46c62f53\n",
      "To: /home/ken/Work/kidney-classification/research/kidney-CT-Scan-data.zip\n",
      "100%|██████████| 57.7M/57.7M [00:05<00:00, 10.4MB/s]\n"
     ]
    },
    {
     "data": {
      "text/plain": [
       "'kidney-CT-Scan-data.zip'"
      ]
     },
     "execution_count": 12,
     "metadata": {},
     "output_type": "execute_result"
    }
   ],
   "source": [
    "gdown.download(prefix+file_id, \"kidney-CT-Scan-data.zip\")"
   ]
  },
  {
   "cell_type": "code",
<<<<<<< HEAD
=======
   "execution_count": 1,
   "metadata": {},
   "outputs": [],
   "source": [
    "import mlflow"
   ]
  },
  {
   "cell_type": "code",
   "execution_count": 3,
   "metadata": {},
   "outputs": [],
   "source": [
    "MLFLOW_TRACKING_URI='https://dagshub.com/kenyann/mlops-kidney-ct-classifier.mlflow'\n",
    "MLFLOW_TRACKING_USERNAME='kenyann'\n",
    "MLFLOW_TRACKING_PASSWORD='0b12fc64e379d04229f9e7b391666dc9b3cf946a' "
   ]
  },
  {
   "cell_type": "code",
   "execution_count": 4,
   "metadata": {},
   "outputs": [
    {
     "name": "stderr",
     "output_type": "stream",
     "text": [
      "/home/ken/.virtualenvs/tensorflow/lib/python3.9/site-packages/tqdm/auto.py:21: TqdmWarning: IProgress not found. Please update jupyter and ipywidgets. See https://ipywidgets.readthedocs.io/en/stable/user_install.html\n",
      "  from .autonotebook import tqdm as notebook_tqdm\n",
      "Downloading artifacts:   0%|          | 0/12 [00:00<?, ?it/s]2024/02/28 19:58:15 INFO mlflow.store.artifact.artifact_repo: The progress bar can be disabled by setting the environment variable MLFLOW_ENABLE_ARTIFACTS_PROGRESS_BAR to false\n",
      "Downloading artifacts: 100%|██████████| 12/12 [00:07<00:00,  1.52it/s] \n",
      "2024-02-28 19:58:23.871173: I tensorflow/core/util/port.cc:113] oneDNN custom operations are on. You may see slightly different numerical results due to floating-point round-off errors from different computation orders. To turn them off, set the environment variable `TF_ENABLE_ONEDNN_OPTS=0`.\n",
      "2024-02-28 19:58:23.898529: E external/local_xla/xla/stream_executor/cuda/cuda_dnn.cc:9261] Unable to register cuDNN factory: Attempting to register factory for plugin cuDNN when one has already been registered\n",
      "2024-02-28 19:58:23.898550: E external/local_xla/xla/stream_executor/cuda/cuda_fft.cc:607] Unable to register cuFFT factory: Attempting to register factory for plugin cuFFT when one has already been registered\n",
      "2024-02-28 19:58:23.899083: E external/local_xla/xla/stream_executor/cuda/cuda_blas.cc:1515] Unable to register cuBLAS factory: Attempting to register factory for plugin cuBLAS when one has already been registered\n",
      "2024-02-28 19:58:23.903217: I tensorflow/core/platform/cpu_feature_guard.cc:182] This TensorFlow binary is optimized to use available CPU instructions in performance-critical operations.\n",
      "To enable the following instructions: AVX2 AVX_VNNI FMA, in other operations, rebuild TensorFlow with the appropriate compiler flags.\n",
      "2024-02-28 19:58:24.362422: W tensorflow/compiler/tf2tensorrt/utils/py_utils.cc:38] TF-TRT Warning: Could not find TensorRT\n",
      "2024-02-28 19:58:24.858989: I external/local_xla/xla/stream_executor/cuda/cuda_executor.cc:887] could not open file to read NUMA node: /sys/bus/pci/devices/0000:01:00.0/numa_node\n",
      "Your kernel may have been built without NUMA support.\n",
      "2024-02-28 19:58:24.972580: I external/local_xla/xla/stream_executor/cuda/cuda_executor.cc:887] could not open file to read NUMA node: /sys/bus/pci/devices/0000:01:00.0/numa_node\n",
      "Your kernel may have been built without NUMA support.\n",
      "2024-02-28 19:58:24.972617: I external/local_xla/xla/stream_executor/cuda/cuda_executor.cc:887] could not open file to read NUMA node: /sys/bus/pci/devices/0000:01:00.0/numa_node\n",
      "Your kernel may have been built without NUMA support.\n",
      "2024-02-28 19:58:24.974226: I external/local_xla/xla/stream_executor/cuda/cuda_executor.cc:887] could not open file to read NUMA node: /sys/bus/pci/devices/0000:01:00.0/numa_node\n",
      "Your kernel may have been built without NUMA support.\n",
      "2024-02-28 19:58:24.974261: I external/local_xla/xla/stream_executor/cuda/cuda_executor.cc:887] could not open file to read NUMA node: /sys/bus/pci/devices/0000:01:00.0/numa_node\n",
      "Your kernel may have been built without NUMA support.\n",
      "2024-02-28 19:58:24.974277: I external/local_xla/xla/stream_executor/cuda/cuda_executor.cc:887] could not open file to read NUMA node: /sys/bus/pci/devices/0000:01:00.0/numa_node\n",
      "Your kernel may have been built without NUMA support.\n",
      "2024-02-28 19:58:25.154037: I external/local_xla/xla/stream_executor/cuda/cuda_executor.cc:887] could not open file to read NUMA node: /sys/bus/pci/devices/0000:01:00.0/numa_node\n",
      "Your kernel may have been built without NUMA support.\n",
      "2024-02-28 19:58:25.154077: I external/local_xla/xla/stream_executor/cuda/cuda_executor.cc:887] could not open file to read NUMA node: /sys/bus/pci/devices/0000:01:00.0/numa_node\n",
      "Your kernel may have been built without NUMA support.\n",
      "2024-02-28 19:58:25.154081: I tensorflow/core/common_runtime/gpu/gpu_device.cc:2022] Could not identify NUMA node of platform GPU id 0, defaulting to 0.  Your kernel may not have been built with NUMA support.\n",
      "2024-02-28 19:58:25.154100: I external/local_xla/xla/stream_executor/cuda/cuda_executor.cc:887] could not open file to read NUMA node: /sys/bus/pci/devices/0000:01:00.0/numa_node\n",
      "Your kernel may have been built without NUMA support.\n",
      "2024-02-28 19:58:25.154111: I tensorflow/core/common_runtime/gpu/gpu_device.cc:1929] Created device /job:localhost/replica:0/task:0/device:GPU:0 with 9720 MB memory:  -> device: 0, name: NVIDIA GeForce RTX 3060, pci bus id: 0000:01:00.0, compute capability: 8.6\n"
     ]
    }
   ],
   "source": [
    "logged_model = 'runs:/1eacecd297624c2785ed35bee9d8d216/model'\n",
    "\n",
    "# Load model as a PyFuncModel.\n",
    "loaded_model = mlflow.pyfunc.load_model(logged_model)"
   ]
  },
  {
   "cell_type": "code",
   "execution_count": 10,
   "metadata": {},
   "outputs": [
    {
     "name": "stdout",
     "output_type": "stream",
     "text": [
      "Help on method predict in module mlflow.pyfunc:\n",
      "\n",
      "predict(data: Union[pandas.core.frame.DataFrame, pandas.core.series.Series, numpy.ndarray, ForwardRef('csc_matrix'), ForwardRef('csr_matrix'), List[Any], Dict[str, Any], datetime.datetime, bool, bytes, float, int, str], params: Optional[Dict[str, Any]] = None) -> Union[pandas.core.frame.DataFrame, pandas.core.series.Series, numpy.ndarray, list, str] method of mlflow.pyfunc.PyFuncModel instance\n",
      "    Generate model predictions.\n",
      "    \n",
      "    If the model contains signature, enforce the input schema first before calling the model\n",
      "    implementation with the sanitized input. If the pyfunc model does not include model schema,\n",
      "    the input is passed to the model implementation as is. See `Model Signature Enforcement\n",
      "    <https://www.mlflow.org/docs/latest/models.html#signature-enforcement>`_ for more details.\"\n",
      "    \n",
      "    :param data: Model input as one of pandas.DataFrame, numpy.ndarray,\n",
      "                 scipy.sparse.(csc.csc_matrix | csr.csr_matrix), List[Any], or\n",
      "                 Dict[str, numpy.ndarray].\n",
      "                 For model signatures with tensor spec inputs\n",
      "                 (e.g. the Tensorflow core / Keras model), the input data type must be one of\n",
      "                 `numpy.ndarray`, `List[numpy.ndarray]`, `Dict[str, numpy.ndarray]` or\n",
      "                 `pandas.DataFrame`. If data is of `pandas.DataFrame` type and the model\n",
      "                 contains a signature with tensor spec inputs, the corresponding column values\n",
      "                 in the pandas DataFrame will be reshaped to the required shape with 'C' order\n",
      "                 (i.e. read / write the elements using C-like index order), and DataFrame\n",
      "                 column values will be cast as the required tensor spec type.\n",
      "    \n",
      "    :param params: Additional parameters to pass to the model for inference.\n",
      "    \n",
      "                   .. Note:: Experimental: This parameter may change or be removed in a future\n",
      "                                           release without warning.\n",
      "    \n",
      "    :return: Model predictions as one of pandas.DataFrame, pandas.Series, numpy.ndarray or list.\n",
      "\n"
     ]
    }
   ],
   "source": [
    "help(loaded_model.predict)"
   ]
  },
  {
   "cell_type": "code",
   "execution_count": 11,
   "metadata": {},
   "outputs": [],
   "source": [
    "from tensorflow.keras.preprocessing import image\n",
    "import numpy as np\n",
    "\n",
    "test_image = image.load_img('/home/ken/Work/mlops-kidney-ct-classifier/inputImage.jpg', target_size=(224, 224))\n",
    "test_image = image.img_to_array(test_image)\n",
    "test_image = np.expand_dims(test_image, axis=0)"
   ]
  },
  {
   "cell_type": "code",
   "execution_count": 14,
   "metadata": {},
   "outputs": [
    {
     "name": "stdout",
     "output_type": "stream",
     "text": [
      "1/1 [==============================] - 0s 16ms/step\n"
     ]
    },
    {
     "data": {
      "text/plain": [
       "array([1])"
      ]
     },
     "execution_count": 14,
     "metadata": {},
     "output_type": "execute_result"
    }
   ],
   "source": [
    "np.argmax(loaded_model.predict(test_image),axis=1)"
   ]
  },
  {
   "cell_type": "code",
   "execution_count": 17,
   "metadata": {},
   "outputs": [],
   "source": [
    "mlflow.set_registry_uri(MLFLOW_TRACKING_URI)\n"
   ]
  },
  {
   "cell_type": "code",
   "execution_count": 25,
   "metadata": {},
   "outputs": [],
   "source": [
    "client = mlflow.MlflowClient()\n"
   ]
  },
  {
   "cell_type": "code",
   "execution_count": 39,
   "metadata": {},
   "outputs": [],
   "source": [
    "list_model = client.search_registered_models()[0]"
   ]
  },
  {
   "cell_type": "code",
   "execution_count": 43,
   "metadata": {},
   "outputs": [
    {
     "data": {
      "text/plain": [
       "<RegisteredModel: aliases={}, creation_timestamp=1708617425086, description='', last_updated_timestamp=1709127435097, latest_versions=[<ModelVersion: aliases=[], creation_timestamp=1708662519142, current_stage='None', description='', last_updated_timestamp=1708662519142, name='VGG16Model', run_id='6cb6e873d08240cd8570556cce5c7354', run_link='', source='mlflow-artifacts:/d605a35b93254b648a077a4ce004726b/6cb6e873d08240cd8570556cce5c7354/artifacts/model', status='READY', status_message='', tags={}, user_id='', version='4'>,\n",
       " <ModelVersion: aliases=[], creation_timestamp=1708662634926, current_stage='Staging', description='', last_updated_timestamp=1709127435097, name='VGG16Model', run_id='1eacecd297624c2785ed35bee9d8d216', run_link='', source='mlflow-artifacts:/d605a35b93254b648a077a4ce004726b/1eacecd297624c2785ed35bee9d8d216/artifacts/model', status='READY', status_message='', tags={}, user_id='', version='5'>], name='VGG16Model', tags={}>"
      ]
     },
     "execution_count": 43,
     "metadata": {},
     "output_type": "execute_result"
    }
   ],
   "source": [
    "list_model"
   ]
  },
  {
   "cell_type": "code",
   "execution_count": 53,
   "metadata": {},
   "outputs": [
    {
     "name": "stdout",
     "output_type": "stream",
     "text": [
      "Version: 5, Stage: Staging\n"
     ]
    }
   ],
   "source": [
    "import requests\n",
    "\n",
    "response = requests.post(\n",
    "  'https://dagshub.com/kenyann/mlops-kidney-ct-classifier.mlflow/api/2.0/mlflow/registered-models/get-latest-versions',\n",
    "  json={\n",
    "    'name': 'VGG16Model',\n",
    "    'stages': ['Staging']\n",
    "  }\n",
    ")\n",
    "\n",
    "latest_versions = response.json().get('model_versions', [])\n",
    "for version in latest_versions:\n",
    "  print(f\"Version: {version['version']}, Stage: {version['current_stage']}\")\n",
    "\n"
   ]
  },
  {
   "cell_type": "code",
   "execution_count": 57,
   "metadata": {},
   "outputs": [],
   "source": [
    "response = requests.post(\n",
    "  'https://dagshub.com/kenyann/mlops-kidney-ct-classifier.mlflow/api/2.0/mlflow/experiments/search',\n",
    ")"
   ]
  },
  {
   "cell_type": "code",
   "execution_count": 58,
   "metadata": {},
   "outputs": [
    {
     "data": {
      "text/plain": [
       "'error while processing request'"
      ]
     },
     "execution_count": 58,
     "metadata": {},
     "output_type": "execute_result"
    }
   ],
   "source": [
    "response.json()"
   ]
  },
  {
   "cell_type": "code",
>>>>>>> master
   "execution_count": null,
   "metadata": {},
   "outputs": [],
   "source": []
  }
 ],
 "metadata": {
  "kernelspec": {
   "display_name": "tensorflow",
   "language": "python",
   "name": "python3"
  },
  "language_info": {
   "codemirror_mode": {
    "name": "ipython",
    "version": 3
   },
   "file_extension": ".py",
   "mimetype": "text/x-python",
   "name": "python",
   "nbconvert_exporter": "python",
   "pygments_lexer": "ipython3",
   "version": "3.9.18"
  }
 },
 "nbformat": 4,
 "nbformat_minor": 2
}
